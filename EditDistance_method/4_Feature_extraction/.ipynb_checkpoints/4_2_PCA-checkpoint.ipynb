{
 "cells": [
  {
   "cell_type": "markdown",
   "id": "2a54d795",
   "metadata": {},
   "source": [
    "# 4_2_PCA.ipynb\n",
    "Transform data into a lower dimensional data structure by PCA.\n",
    "- Calculate principal components until the cumulative contribution ratio reaches 0.99\n",
    "- Reduced the number of features from 19322 to 381.\n",
    "### input\n",
    "- 4_Feature_extraction_PCA/output/Feature_extraction.npz : A file that select features such that (1 - Levenshtein ratio) between paths from different KEGG pathways is greater than 0.3 for at least one of them from 'Calc_Edit_Distance.csv'\n",
    "- 9_Integration_SE_TI_Target_datafile/Y_binary_TI.npz : A file with Path and TI linked\n",
    "### output\n",
    "- 5_X_train_test_datafile/train/X_train_PCA_TI.npz : Training data for explanatory variables \n",
    "- 5_X_train_test_datafile/train/Y_train_TI.npz : Training data for response variables \n",
    "- 5_X_train_test_datafile/test/X_test_PCA_TI.npz : Test data for explanatory variables \n",
    "- 5_X_train_test_datafile/test/Y_test_TI.npz : Test data for response variables \n",
    "- 15_PCA_model/X_PCA_model.pkl : PCA model"
   ]
  },
  {
   "cell_type": "code",
   "execution_count": 1,
   "id": "86ddd5a8",
   "metadata": {},
   "outputs": [],
   "source": [
    "from scipy.sparse import csr_matrix\n",
    "from scipy.sparse import save_npz, load_npz\n",
    "from sklearn.decomposition import PCA\n",
    "from sklearn.model_selection import train_test_split\n",
    "import pickle"
   ]
  },
  {
   "cell_type": "code",
   "execution_count": 2,
   "id": "f9119dee",
   "metadata": {},
   "outputs": [],
   "source": [
    "X = load_npz('output/Feature_extraction.npz').toarray()"
   ]
  },
  {
   "cell_type": "code",
   "execution_count": 3,
   "id": "9c1b6ae0",
   "metadata": {},
   "outputs": [
    {
     "name": "stdout",
     "output_type": "stream",
     "text": [
      "Size of the matrix after feature extraction: (59885, 19322)\n"
     ]
    }
   ],
   "source": [
    "print(f'Size of the matrix after feature extraction: {X.shape}')"
   ]
  },
  {
   "cell_type": "code",
   "execution_count": 4,
   "id": "9892f008",
   "metadata": {},
   "outputs": [],
   "source": [
    "y_ti = load_npz('../9_Integration_SE_TI_Target_datafile/Y_binary_TI.npz').toarray()"
   ]
  },
  {
   "cell_type": "code",
   "execution_count": 5,
   "id": "d99399f8",
   "metadata": {},
   "outputs": [],
   "source": [
    "X_train_t, X_test_t, y_train_t, y_test_t = train_test_split(X, y_ti, test_size=0.1, random_state = 0)"
   ]
  },
  {
   "cell_type": "code",
   "execution_count": 6,
   "id": "2283a3a0",
   "metadata": {
    "scrolled": true
   },
   "outputs": [
    {
     "data": {
      "text/plain": [
       "PCA(n_components=0.99, random_state=0)"
      ]
     },
     "execution_count": 6,
     "metadata": {},
     "output_type": "execute_result"
    }
   ],
   "source": [
    "#主成分分析の実行\n",
    "pca = PCA(n_components = 0.99, random_state = 0)\n",
    "pca.fit(X_train_t)"
   ]
  },
  {
   "cell_type": "code",
   "execution_count": 7,
   "id": "303e60b9",
   "metadata": {},
   "outputs": [],
   "source": [
    "save_npz('../5_X_train_test_datafile/train/X_train_PCA_TI.npz', csr_matrix(pca.transform(X_train_t)))\n",
    "save_npz('../5_X_train_test_datafile/train/Y_train_TI.npz', csr_matrix(y_train_t))"
   ]
  },
  {
   "cell_type": "code",
   "execution_count": 8,
   "id": "eb3521ed",
   "metadata": {},
   "outputs": [],
   "source": [
    "save_npz('../5_X_train_test_datafile/test/X_test_PCA_TI.npz', csr_matrix(pca.transform(X_test_t)))\n",
    "save_npz('../5_X_train_test_datafile/test/Y_test_TI.npz', csr_matrix(y_test_t))"
   ]
  },
  {
   "cell_type": "code",
   "execution_count": 9,
   "id": "718f4516",
   "metadata": {},
   "outputs": [],
   "source": [
    "# モデルの保存\n",
    "with open('../6_PCA_model/X_PCA_model.pkl', 'wb') as f:\n",
    "    pickle.dump(pca, f)"
   ]
  },
  {
   "cell_type": "code",
   "execution_count": 10,
   "id": "51912bfd",
   "metadata": {},
   "outputs": [
    {
     "name": "stdout",
     "output_type": "stream",
     "text": [
      "Size of the matrix of train data after PCA: (53896, 381)\n",
      "Size of the matrix of test data after PCA: (5989, 381)\n"
     ]
    }
   ],
   "source": [
    "print(f'Size of the matrix of train data after PCA: {csr_matrix(pca.transform(X_train)).shape}')\n",
    "print(f'Size of the matrix of test data after PCA: {csr_matrix(pca.transform(X_test)).shape}')"
   ]
  },
  {
   "cell_type": "code",
   "execution_count": null,
   "id": "6847eb5f",
   "metadata": {},
   "outputs": [],
   "source": [
    "y_se = load_npz('../9_Integration_SE_TI_Target_datafile/Y_binary_SE.npz').toarray()"
   ]
  },
  {
   "cell_type": "code",
   "execution_count": null,
   "id": "a71a2ed9",
   "metadata": {},
   "outputs": [],
   "source": [
    "X_train_s, X_test_s, y_train_s, y_test_s = train_test_split(X, y_se, test_size=0.1, random_state = 0)"
   ]
  },
  {
   "cell_type": "code",
   "execution_count": null,
   "id": "74f3635e",
   "metadata": {},
   "outputs": [],
   "source": [
    "save_npz('../5_X_train_test_datafile/train/X_train_PCA_SE.npz', csr_matrix(pca.transform(X_train_s)))\n",
    "save_npz('../5_X_train_test_datafile/train/Y_train_SE.npz', csr_matrix(y_train_s))"
   ]
  },
  {
   "cell_type": "code",
   "execution_count": null,
   "id": "979bef12",
   "metadata": {},
   "outputs": [],
   "source": [
    "save_npz('../5_X_train_test_datafile/test/X_test_PCA_SE.npz', csr_matrix(pca.transform(X_test_s)))\n",
    "save_npz('../5_X_train_test_datafile/test/Y_test_SE.npz', csr_matrix(y_test_s))"
   ]
  },
  {
   "cell_type": "code",
   "execution_count": null,
   "id": "b3097ad8",
   "metadata": {},
   "outputs": [],
   "source": []
  }
 ],
 "metadata": {
  "kernelspec": {
   "display_name": "Python 3",
   "language": "python",
   "name": "python3"
  },
  "language_info": {
   "codemirror_mode": {
    "name": "ipython",
    "version": 3
   },
   "file_extension": ".py",
   "mimetype": "text/x-python",
   "name": "python",
   "nbconvert_exporter": "python",
   "pygments_lexer": "ipython3",
   "version": "3.8.8"
  }
 },
 "nbformat": 4,
 "nbformat_minor": 5
}
