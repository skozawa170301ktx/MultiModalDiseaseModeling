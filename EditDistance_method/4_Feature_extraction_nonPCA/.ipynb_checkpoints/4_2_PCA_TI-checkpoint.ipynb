{
 "cells": [
  {
   "cell_type": "markdown",
   "id": "2a54d795",
   "metadata": {},
   "source": [
    "# 4_1_Feature_extraction.ipynb\n",
    "Create data.\n",
    "\n",
    "### input\n",
    "- 3_Calc_Edit_Distance/output/Calc_Edit_Distance.csv.gz : A file that calculates the edit distance between Paths\n",
    "\n",
    "### output\n",
    "- 4_Feature_extraction_PCA/output/Feature_extraction.npz : A file that select features such that (1 - Levenshtein ratio) between paths from different KEGG pathways is greater than 0.3 for at least one of them from 'Calc_Edit_Distance.csv'"
   ]
  },
  {
   "cell_type": "code",
   "execution_count": 1,
   "id": "86ddd5a8",
   "metadata": {},
   "outputs": [],
   "source": [
    "import pandas as pd\n",
    "from scipy.sparse import csr_matrix\n",
    "from scipy.sparse import save_npz, load_npz\n",
    "from scipy.sparse import csr_matrix\n",
    "from scipy.sparse import save_npz, load_npz\n",
    "from sklearn.decomposition import PCA\n",
    "from sklearn.model_selection import train_test_split\n",
    "import pickle"
   ]
  },
  {
   "cell_type": "code",
   "execution_count": null,
   "id": "d042743b",
   "metadata": {},
   "outputs": [],
   "source": [
    "for i in range(177):\n",
    "    X_train_m = load_npz('../5_X_train_test_datafile/X_Feature_Extraction/train/X_train_TI_'+ str(i) +'.npz').toarray()\n",
    "    \n",
    "    X_test_m = load_npz('../5_X_train_test_datafile/X_Feature_Extraction/test/X_test_TI'+ str(i) +'.npz').toarray()\n",
    "\n",
    "    pca = PCA(n_components = 0.99, random_state = 0)\n",
    "    pca.fit(X_train_m)\n",
    "    save_npz('../5_X_train_test_datafile/train/X_train_PCA_TI_'+ str(i) +'.npz', csr_matrix(pca.transform(X_train_m)))\n",
    "    save_npz('../5_X_train_test_datafile/test/X_test_PCA_TI_'+ str(i) +'.npz', csr_matrix(pca.transform(X_test_m)))\n",
    "    with open('../6_PCA_model/X_PCA_model_SE'+ str(i) +'.pkl', 'wb') as f:\n",
    "        pickle.dump(pca, f)"
   ]
  },
  {
   "cell_type": "code",
   "execution_count": null,
   "id": "bcc7001c",
   "metadata": {},
   "outputs": [],
   "source": []
  }
 ],
 "metadata": {
  "kernelspec": {
   "display_name": "Python 3",
   "language": "python",
   "name": "python3"
  },
  "language_info": {
   "codemirror_mode": {
    "name": "ipython",
    "version": 3
   },
   "file_extension": ".py",
   "mimetype": "text/x-python",
   "name": "python",
   "nbconvert_exporter": "python",
   "pygments_lexer": "ipython3",
   "version": "3.8.8"
  }
 },
 "nbformat": 4,
 "nbformat_minor": 5
}
