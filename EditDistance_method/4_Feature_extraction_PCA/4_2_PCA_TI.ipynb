{
 "cells": [
  {
   "cell_type": "markdown",
   "id": "2a54d795",
   "metadata": {},
   "source": [
    "# 4_2_PCA_TI.ipynb\n",
    "Performing PCA for training and test data of explanatory variables after sampling in [4_1_Feature_extraction_TI.ipynb] in TI.\n",
    "\n",
    "### input\n",
    "- 5_X_train_test_datafile/X_Feature_Extraction/train/X_train_TI_*.npz : Training data for explanatory variables after sampling in TI.\n",
    "- 5_X_train_test_datafile/X_Feature_Extraction/test/X_test_TI_*.npz : Test data for explanatory variables after sampling in TI.\n",
    "- 4_Feature_extraction/output/Train_Test_count_TI.csv : A file containing the TI ID and the number of TI for training or test data. In this notebook, we only used the column 'ID' and 'use_ID' in this file.\n",
    "\n",
    "### output\n",
    "- 5_X_train_test_datafile_PCA/train/X_train_PCA_TI_*.npz : Training data for explanatory variables after PCA in TI.\n",
    "- 5_X_train_test_datafile_PCA/test/X_test_PCA_TI_*.npz : Test data for explanatory variables after PCA in TI.\n",
    "- 6_PCA_model/X_PCA_model_TI_*.pkl : PCA models."
   ]
  },
  {
   "cell_type": "code",
   "execution_count": 1,
   "id": "86ddd5a8",
   "metadata": {},
   "outputs": [],
   "source": [
    "from scipy.sparse import csr_matrix\n",
    "from scipy.sparse import save_npz, load_npz\n",
    "from sklearn.decomposition import PCA\n",
    "import pickle"
   ]
  },
  {
   "cell_type": "code",
   "execution_count": 2,
   "id": "b3487ea8",
   "metadata": {},
   "outputs": [],
   "source": [
    "ti_use = pd.read_csv('../4_Feature_extraction/output/Train_Test_count_TI.csv', header = 0, index_col=0)\n",
    "ti_use = ti_use[ti_use['use_ID']==1]"
   ]
  },
  {
   "cell_type": "code",
   "execution_count": 3,
   "id": "d042743b",
   "metadata": {},
   "outputs": [],
   "source": [
    "for i in ti_use['ID']:\n",
    "    X_train_m = load_npz('../5_X_train_test_datafile/X_Feature_Extraction/train/X_train_TI_'+ str(i) +'.npz').toarray()\n",
    "    \n",
    "    X_test_m = load_npz('../5_X_train_test_datafile/X_Feature_Extraction/test/X_test_TI_'+ str(i) +'.npz').toarray()\n",
    "\n",
    "    pca = PCA(n_components = 0.99, random_state = 0)\n",
    "    pca.fit(X_train_m)\n",
    "    save_npz('../5_X_train_test_datafile_PCA/train/X_train_PCA_TI_'+ str(i) +'.npz', csr_matrix(pca.transform(X_train_m)))\n",
    "    save_npz('../5_X_train_test_datafile_PCA/test/X_test_PCA_TI_'+ str(i) +'.npz', csr_matrix(pca.transform(X_test_m)))\n",
    "    with open('../6_PCA_model/X_PCA_model_TI_'+ str(i) +'.pkl', 'wb') as f:\n",
    "        pickle.dump(pca, f)"
   ]
  },
  {
   "cell_type": "code",
   "execution_count": null,
   "id": "bcc7001c",
   "metadata": {},
   "outputs": [],
   "source": []
  }
 ],
 "metadata": {
  "kernelspec": {
   "display_name": "Python 3",
   "language": "python",
   "name": "python3"
  },
  "language_info": {
   "codemirror_mode": {
    "name": "ipython",
    "version": 3
   },
   "file_extension": ".py",
   "mimetype": "text/x-python",
   "name": "python",
   "nbconvert_exporter": "python",
   "pygments_lexer": "ipython3",
   "version": "3.8.8"
  }
 },
 "nbformat": 4,
 "nbformat_minor": 5
}
