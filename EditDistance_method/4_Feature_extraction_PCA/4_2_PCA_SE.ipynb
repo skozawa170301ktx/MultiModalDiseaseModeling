{
 "cells": [
  {
   "cell_type": "markdown",
   "id": "2a54d795",
   "metadata": {},
   "source": [
    "# 4_2_PCA_SE.ipynb\n",
    "Performing PCA for training and test data of explanatory variables after sampling in [4_1_Feature_extraction_SE.ipynb] in SE.\n",
    "\n",
    "### input\n",
    "- 5_X_train_test_datafile/X_Feature_Extraction/train/X_train_SE_*.npz : Training data for explanatory variables after sampling in SE.\n",
    "- 5_X_train_test_datafile/X_Feature_Extraction/test/X_test_SE_*.npz : Test data for explanatory variables after sampling in SE.\n",
    "\n",
    "### output\n",
    "- 5_X_train_test_datafile_PCA/train/X_train_PCA_SE_*.npz : Training data for explanatory variables after PCA in SE.\n",
    "- 5_X_train_test_datafile_PCA/test/X_test_PCA_SE_*.npz : Test data for explanatory variables after PCA in SE.\n",
    "- 6_PCA_model/X_PCA_model_SE_*.pkl : PCA models."
   ]
  },
  {
   "cell_type": "code",
   "execution_count": 1,
   "id": "86ddd5a8",
   "metadata": {},
   "outputs": [],
   "source": [
    "from scipy.sparse import csr_matrix\n",
    "from scipy.sparse import save_npz, load_npz\n",
    "from sklearn.decomposition import PCA\n",
    "import pickle"
   ]
  },
  {
   "cell_type": "code",
   "execution_count": 2,
   "id": "d042743b",
   "metadata": {},
   "outputs": [],
   "source": [
    "for i in range(177):\n",
    "    X_train_m = load_npz('../5_X_train_test_datafile/X_Feature_Extraction/train/X_train_SE_'+ str(i) +'.npz').toarray()\n",
    "    \n",
    "    X_test_m = load_npz('../5_X_train_test_datafile/X_Feature_Extraction/test/X_test_SE_'+ str(i) +'.npz').toarray()\n",
    "\n",
    "    pca = PCA(n_components = 0.99, random_state = 0)\n",
    "    pca.fit(X_train_m)\n",
    "    save_npz('../5_X_train_test_datafile_PCA/train/X_train_PCA_SE_'+ str(i) +'.npz', csr_matrix(pca.transform(X_train_m)))\n",
    "    save_npz('../5_X_train_test_datafile_PCA/test/X_test_PCA_SE_'+ str(i) +'.npz', csr_matrix(pca.transform(X_test_m)))\n",
    "    with open('../6_PCA_model/X_PCA_model_SE_'+ str(i) +'.pkl', 'wb') as f:\n",
    "        pickle.dump(pca, f)"
   ]
  },
  {
   "cell_type": "code",
   "execution_count": null,
   "id": "bcc7001c",
   "metadata": {},
   "outputs": [],
   "source": []
  }
 ],
 "metadata": {
  "kernelspec": {
   "display_name": "Python 3",
   "language": "python",
   "name": "python3"
  },
  "language_info": {
   "codemirror_mode": {
    "name": "ipython",
    "version": 3
   },
   "file_extension": ".py",
   "mimetype": "text/x-python",
   "name": "python",
   "nbconvert_exporter": "python",
   "pygments_lexer": "ipython3",
   "version": "3.8.8"
  }
 },
 "nbformat": 4,
 "nbformat_minor": 5
}
