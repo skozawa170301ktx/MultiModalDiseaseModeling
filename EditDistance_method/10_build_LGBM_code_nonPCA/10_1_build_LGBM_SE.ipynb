{
 "cells": [
  {
   "cell_type": "markdown",
   "metadata": {},
   "source": [
    "# 10_1_build_LGBM_SE.ipynb\n",
    "Let LGBM learn the relationship between Path similarity (Levenshtein ratio) pattern and SE pattern.\n",
    "\n",
    "- Using LGBM.\n",
    "- Perform downsamling + vaging.\n",
    "- After downsampling, the upper limit of the number of rows in the matrix is set to 1000.\n",
    "- Separate the data after downsampling into training data and validation data.\n",
    "- Learning is performed while tuning the parameters by optuna.integration.lightgbm.\n",
    "- Bagging is done 10 times.\n",
    "\n",
    "### input\n",
    "- 5_X_train_test_datafile_nonPCA/train/X_train_Clustering_SE_*.npz : Training data for explanatory variables after sampling for the second time in SE.\n",
    "- 5_X_train_test_datafile/Y/Y_train_SE.npz : Training data for response variable in SE.\n",
    "\n",
    "### output\n",
    "- 11_LGBM_SE_nonPCA/model_se_*.pkl : LightGBM trained on training data."
   ]
  },
  {
   "cell_type": "code",
   "execution_count": 1,
   "metadata": {},
   "outputs": [],
   "source": [
    "from imblearn.under_sampling import RandomUnderSampler\n",
    "from scipy.sparse import load_npz\n",
    "from sklearn.model_selection import train_test_split\n",
    "import optuna.integration.lightgbm as lgb\n",
    "import pickle\n",
    "import warnings\n",
    "warnings.filterwarnings('ignore')"
   ]
  },
  {
   "cell_type": "code",
   "execution_count": 2,
   "metadata": {},
   "outputs": [],
   "source": [
    "Y_train = load_npz('../5_X_train_test_datafile/Y/Y_train_SE.npz')"
   ]
  },
  {
   "cell_type": "code",
   "execution_count": 3,
   "metadata": {},
   "outputs": [
    {
     "data": {
      "text/plain": [
       "(60732, 177)"
      ]
     },
     "execution_count": 3,
     "metadata": {},
     "output_type": "execute_result"
    }
   ],
   "source": [
    "Y_train.shape"
   ]
  },
  {
   "cell_type": "code",
   "execution_count": 4,
   "metadata": {},
   "outputs": [],
   "source": [
    "def bagging(seed):\n",
    "    sampler = RandomUnderSampler(random_state=seed, replacement=True, sampling_strategy = 0.5)\n",
    "    X_resampled, y_resampled = sampler.fit_resample(X_train.toarray(), y_train.toarray())\n",
    "    if X_resampled.shape[0] > 1000:\n",
    "        X_resampled, _, y_resampled, _ = train_test_split(X_resampled, y_resampled, train_size=1000, random_state=0, shuffle=True)\n",
    "    \n",
    "    X_train2, X_valid, y_train2, y_valid = train_test_split(X_resampled, y_resampled, test_size=0.2, random_state=0, shuffle=True)\n",
    "\n",
    "    lgb_train = lgb.Dataset(X_train2, y_train2)\n",
    "    lgb_eval = lgb.Dataset(X_valid, y_valid, reference=lgb_train)\n",
    "    \n",
    "    model = lgb.train(params,\n",
    "                lgb_train,\n",
    "                num_boost_round=200,\n",
    "                valid_sets=[lgb_train, lgb_eval],\n",
    "                early_stopping_rounds=50, verbose_eval=False,\n",
    "                optuna_seed=0,\n",
    "                verbosity = -1\n",
    "               )\n",
    "    \n",
    "    with open('../11_LGBM_SE_nonPCA/model_se_'+str(i)+'_'+str(seed)+'.pkl', 'wb') as f:\n",
    "        pickle.dump(model, f)\n",
    "    \n",
    "    return model"
   ]
  },
  {
   "cell_type": "code",
   "execution_count": null,
   "metadata": {},
   "outputs": [],
   "source": [
    "for i in range(177):\n",
    "    X_train = load_npz('../5_X_train_test_datafile_nonPCA/train/X_train_Clustering_SE_'+ str(i) +'.npz')\n",
    "    y_train = Y_train[:, i]\n",
    "    \n",
    "    params = {\n",
    "    'objective': 'binary',\n",
    "    'metric': 'binary_logloss',\n",
    "    'verbosity' : -1,\n",
    "    'deterministic':True,\n",
    "    'force_row_wise':True\n",
    "    }\n",
    "      \n",
    "    models = []\n",
    "\n",
    "    try:\n",
    "        for k in range(10):\n",
    "            models.append(bagging(k))\n",
    "    \n",
    "\n",
    "    except:\n",
    "        print(i)"
   ]
  },
  {
   "cell_type": "code",
   "execution_count": null,
   "metadata": {},
   "outputs": [],
   "source": []
  }
 ],
 "metadata": {
  "interpreter": {
   "hash": "137c9a622c112758795550bdbacf4bdb8d3b969906f774637f3aeed37d13ee03"
  },
  "kernelspec": {
   "display_name": "Python 3",
   "language": "python",
   "name": "python3"
  },
  "language_info": {
   "codemirror_mode": {
    "name": "ipython",
    "version": 3
   },
   "file_extension": ".py",
   "mimetype": "text/x-python",
   "name": "python",
   "nbconvert_exporter": "python",
   "pygments_lexer": "ipython3",
   "version": "3.8.8"
  }
 },
 "nbformat": 4,
 "nbformat_minor": 4
}
