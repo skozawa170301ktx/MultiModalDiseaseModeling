{
 "cells": [
  {
   "cell_type": "markdown",
   "metadata": {},
   "source": [
    "# 10_1_train_test_count_SE.ipynb\n",
    "Examine the SEs that appear in 6 or more in the test and training data respectively.\n",
    "\n",
    "### input\n",
    "- 5_X_train_test_datafile/train/X_train_PCA_SE.npz : Training data for explanatory variables in SE\n",
    "- 5_X_train_test_datafile/train/Y_train_SE.npz : Training data for response variables in SE\n",
    "- 5_X_train_test_datafile/test/X_test_PCA_SE.npz : Test data for explanatory variables in SE\n",
    "- 5_X_train_test_datafile/test/Y_test_SE.npz : Test data for response variables in SE\n",
    "\n",
    "### output\n",
    "- 10_build_LGBM_code/output/Train_Test_count_SE.csv : A file containing the ID of the SE that will create the model "
   ]
  },
  {
   "cell_type": "code",
   "execution_count": 1,
   "metadata": {},
   "outputs": [],
   "source": [
    "import pandas as pd\n",
    "from scipy.sparse import load_npz"
   ]
  },
  {
   "cell_type": "code",
   "execution_count": 2,
   "metadata": {},
   "outputs": [],
   "source": [
    "X_train = load_npz('../5_X_train_test_datafile/train/X_train_PCA_SE.npz')\n",
    "Y_train = load_npz('../5_X_train_test_datafile/train/Y_train_SE.npz')\n",
    "X_test = load_npz('../5_X_train_test_datafile/test/X_test_PCA_SE.npz')\n",
    "Y_test = load_npz('../5_X_train_test_datafile/test/Y_test_SE.npz')"
   ]
  },
  {
   "cell_type": "code",
   "execution_count": null,
   "metadata": {},
   "outputs": [],
   "source": [
    "df_a = pd.DataFrame()\n",
    "\n",
    "for i in range(Y_train.shape[1]):\n",
    "    y_tr = Y_train[:, i]\n",
    "    y_te = Y_test[:, i]\n",
    "    \n",
    "    df_a = pd.concat([df_a, pd.DataFrame([[i, y_tr.sum(), y_te.sum()]]).rename(columns = {0:'ID', 1:'train', 2:'test'})])\n",
    "df_a = df_a.reset_index(drop = True)"
   ]
  },
  {
   "cell_type": "code",
   "execution_count": null,
   "metadata": {},
   "outputs": [],
   "source": [
    "df_a"
   ]
  },
  {
   "cell_type": "code",
   "execution_count": null,
   "metadata": {},
   "outputs": [],
   "source": [
    "df_ok = df_a[(df_a['test'] > 5) & (df_a['train'] > 5)]\n",
    "df_ok['use_ID'] = 1"
   ]
  },
  {
   "cell_type": "code",
   "execution_count": null,
   "metadata": {},
   "outputs": [],
   "source": [
    "df_ok"
   ]
  },
  {
   "cell_type": "code",
   "execution_count": null,
   "metadata": {},
   "outputs": [],
   "source": [
    "df_out = df_a[~((df_a['test'] > 5) & (df_a['train'] > 5))]\n",
    "df_out['use_ID'] = 0"
   ]
  },
  {
   "cell_type": "code",
   "execution_count": null,
   "metadata": {},
   "outputs": [],
   "source": [
    "df_out"
   ]
  },
  {
   "cell_type": "code",
   "execution_count": null,
   "metadata": {},
   "outputs": [],
   "source": [
    "df = pd.concat([df_ok, df_out]).sort_index()"
   ]
  },
  {
   "cell_type": "code",
   "execution_count": null,
   "metadata": {},
   "outputs": [],
   "source": [
    "df"
   ]
  },
  {
   "cell_type": "code",
   "execution_count": null,
   "metadata": {},
   "outputs": [],
   "source": [
    "df.to_csv('output/Train_Test_count_SE.csv',encoding = 'utf-8')"
   ]
  },
  {
   "cell_type": "code",
   "execution_count": null,
   "metadata": {},
   "outputs": [],
   "source": []
  }
 ],
 "metadata": {
  "interpreter": {
   "hash": "137c9a622c112758795550bdbacf4bdb8d3b969906f774637f3aeed37d13ee03"
  },
  "kernelspec": {
   "display_name": "Python 3",
   "language": "python",
   "name": "python3"
  },
  "language_info": {
   "codemirror_mode": {
    "name": "ipython",
    "version": 3
   },
   "file_extension": ".py",
   "mimetype": "text/x-python",
   "name": "python",
   "nbconvert_exporter": "python",
   "pygments_lexer": "ipython3",
   "version": "3.8.8"
  }
 },
 "nbformat": 4,
 "nbformat_minor": 4
}
