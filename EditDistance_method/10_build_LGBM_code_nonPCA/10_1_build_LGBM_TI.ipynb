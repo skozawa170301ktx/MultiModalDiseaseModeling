{
 "cells": [
  {
   "cell_type": "markdown",
   "metadata": {},
   "source": [
    "# 10_1_build_LGBM_TI.ipynb\n",
    "Let LGBM learn the relationship between Path similarity (Levenshtein ratio) pattern and TI pattern.\n",
    "\n",
    "- Using LGBM.\n",
    "- Perform downsamling + vaging.\n",
    "- After downsampling, the upper limit of the number of rows in the matrix is set to 1000.\n",
    "- Separate the data after downsampling into training data and validation data.\n",
    "- Learning is performed while tuning the parameters by optuna.integration.lightgbm.\n",
    "- Bagging is done 10 times.\n",
    "\n",
    "### input\n",
    "- 5_X_train_test_datafile_nonPCA/train/X_train_Clustering_TI_*.npz : Training data for explanatory variables after sampling for the second time in TI.\n",
    "- 5_X_train_test_datafile/Y/Y_train_TI.npz : Training data for response variable in TI.\n",
    "- 4_Feature_extraction/output/Train_Test_count_TI.csv : A file containing the TI ID and the number of TI for training or test data. In this notebook, we only used the column 'use_ID' and 'ID' in this file.\n",
    "\n",
    "### output\n",
    "- 11_LGBM_TI_nonPCA/model_ti_*.pkl : LightGBM trained on training data."
   ]
  },
  {
   "cell_type": "code",
   "execution_count": 1,
   "metadata": {},
   "outputs": [],
   "source": [
    "import pandas as pd\n",
    "from imblearn.under_sampling import RandomUnderSampler\n",
    "from scipy.sparse import load_npz\n",
    "from sklearn.model_selection import train_test_split\n",
    "import optuna.integration.lightgbm as lgb\n",
    "import pickle\n",
    "import warnings\n",
    "warnings.filterwarnings('ignore')"
   ]
  },
  {
   "cell_type": "code",
   "execution_count": 2,
   "metadata": {},
   "outputs": [],
   "source": [
    "Y_train = load_npz('../5_X_train_test_datafile/Y/Y_train_TI.npz')"
   ]
  },
  {
   "cell_type": "code",
   "execution_count": 3,
   "metadata": {},
   "outputs": [
    {
     "data": {
      "text/plain": [
       "(60732, 1684)"
      ]
     },
     "execution_count": 3,
     "metadata": {},
     "output_type": "execute_result"
    }
   ],
   "source": [
    "Y_train.shape"
   ]
  },
  {
   "cell_type": "code",
   "execution_count": 4,
   "metadata": {},
   "outputs": [],
   "source": [
    "df_use = pd.read_csv(\"../4_Feature_extraction/output/Train_Test_count_TI.csv\",header = 0, index_col=0)\n",
    "df_use = df_use[df_use['use_ID']==1]"
   ]
  },
  {
   "cell_type": "code",
   "execution_count": 5,
   "metadata": {},
   "outputs": [
    {
     "data": {
      "text/html": [
       "<div>\n",
       "<style scoped>\n",
       "    .dataframe tbody tr th:only-of-type {\n",
       "        vertical-align: middle;\n",
       "    }\n",
       "\n",
       "    .dataframe tbody tr th {\n",
       "        vertical-align: top;\n",
       "    }\n",
       "\n",
       "    .dataframe thead th {\n",
       "        text-align: right;\n",
       "    }\n",
       "</style>\n",
       "<table border=\"1\" class=\"dataframe\">\n",
       "  <thead>\n",
       "    <tr style=\"text-align: right;\">\n",
       "      <th></th>\n",
       "      <th>ID</th>\n",
       "      <th>train</th>\n",
       "      <th>test</th>\n",
       "      <th>use_ID</th>\n",
       "    </tr>\n",
       "  </thead>\n",
       "  <tbody>\n",
       "    <tr>\n",
       "      <th>0</th>\n",
       "      <td>0</td>\n",
       "      <td>109.0</td>\n",
       "      <td>11.0</td>\n",
       "      <td>1</td>\n",
       "    </tr>\n",
       "    <tr>\n",
       "      <th>4</th>\n",
       "      <td>4</td>\n",
       "      <td>167.0</td>\n",
       "      <td>18.0</td>\n",
       "      <td>1</td>\n",
       "    </tr>\n",
       "    <tr>\n",
       "      <th>5</th>\n",
       "      <td>5</td>\n",
       "      <td>103.0</td>\n",
       "      <td>11.0</td>\n",
       "      <td>1</td>\n",
       "    </tr>\n",
       "    <tr>\n",
       "      <th>6</th>\n",
       "      <td>6</td>\n",
       "      <td>86.0</td>\n",
       "      <td>9.0</td>\n",
       "      <td>1</td>\n",
       "    </tr>\n",
       "    <tr>\n",
       "      <th>7</th>\n",
       "      <td>7</td>\n",
       "      <td>94.0</td>\n",
       "      <td>10.0</td>\n",
       "      <td>1</td>\n",
       "    </tr>\n",
       "    <tr>\n",
       "      <th>...</th>\n",
       "      <td>...</td>\n",
       "      <td>...</td>\n",
       "      <td>...</td>\n",
       "      <td>...</td>\n",
       "    </tr>\n",
       "    <tr>\n",
       "      <th>1672</th>\n",
       "      <td>1672</td>\n",
       "      <td>375.0</td>\n",
       "      <td>35.0</td>\n",
       "      <td>1</td>\n",
       "    </tr>\n",
       "    <tr>\n",
       "      <th>1675</th>\n",
       "      <td>1675</td>\n",
       "      <td>307.0</td>\n",
       "      <td>27.0</td>\n",
       "      <td>1</td>\n",
       "    </tr>\n",
       "    <tr>\n",
       "      <th>1676</th>\n",
       "      <td>1676</td>\n",
       "      <td>626.0</td>\n",
       "      <td>60.0</td>\n",
       "      <td>1</td>\n",
       "    </tr>\n",
       "    <tr>\n",
       "      <th>1678</th>\n",
       "      <td>1678</td>\n",
       "      <td>358.0</td>\n",
       "      <td>43.0</td>\n",
       "      <td>1</td>\n",
       "    </tr>\n",
       "    <tr>\n",
       "      <th>1679</th>\n",
       "      <td>1679</td>\n",
       "      <td>59.0</td>\n",
       "      <td>8.0</td>\n",
       "      <td>1</td>\n",
       "    </tr>\n",
       "  </tbody>\n",
       "</table>\n",
       "<p>1168 rows × 4 columns</p>\n",
       "</div>"
      ],
      "text/plain": [
       "        ID  train  test  use_ID\n",
       "0        0  109.0  11.0       1\n",
       "4        4  167.0  18.0       1\n",
       "5        5  103.0  11.0       1\n",
       "6        6   86.0   9.0       1\n",
       "7        7   94.0  10.0       1\n",
       "...    ...    ...   ...     ...\n",
       "1672  1672  375.0  35.0       1\n",
       "1675  1675  307.0  27.0       1\n",
       "1676  1676  626.0  60.0       1\n",
       "1678  1678  358.0  43.0       1\n",
       "1679  1679   59.0   8.0       1\n",
       "\n",
       "[1168 rows x 4 columns]"
      ]
     },
     "execution_count": 5,
     "metadata": {},
     "output_type": "execute_result"
    }
   ],
   "source": [
    "df_use"
   ]
  },
  {
   "cell_type": "code",
   "execution_count": 6,
   "metadata": {},
   "outputs": [],
   "source": [
    "def bagging(seed):\n",
    "    sampler = RandomUnderSampler(random_state=seed, replacement=True, sampling_strategy = 0.4)\n",
    "    X_resampled, y_resampled = sampler.fit_resample(X_train.toarray(), y_train.toarray())\n",
    "    if X_resampled.shape[0] > 1000:\n",
    "        X_resampled, _, y_resampled, _ = train_test_split(X_resampled, y_resampled, train_size=1000, random_state=0, shuffle=True)\n",
    "    \n",
    "    X_train2, X_valid, y_train2, y_valid = train_test_split(X_resampled, y_resampled, test_size=0.2, random_state=0, shuffle=True)\n",
    "\n",
    "    lgb_train = lgb.Dataset(X_train2, y_train2)\n",
    "    lgb_eval = lgb.Dataset(X_valid, y_valid, reference=lgb_train)\n",
    "    \n",
    "    model = lgb.train(params,\n",
    "                lgb_train,\n",
    "                num_boost_round=200,\n",
    "                valid_sets=[lgb_train, lgb_eval],\n",
    "                early_stopping_rounds=50, verbose_eval=False,\n",
    "                optuna_seed=0,\n",
    "                verbosity = -1\n",
    "               )\n",
    "    \n",
    "    with open('../11_LGBM_TI_nonPCA/model_ti_'+str(i)+'_'+str(seed)+'.pkl', 'wb') as f:\n",
    "        pickle.dump(model, f)\n",
    "    \n",
    "    return model"
   ]
  },
  {
   "cell_type": "code",
   "execution_count": null,
   "metadata": {},
   "outputs": [],
   "source": [
    "for i in df_use['ID']:\n",
    "    X_train = load_npz('../5_X_train_test_datafile_nonPCA/train/X_train_Clustering_TI_'+ str(i) +'.npz')\n",
    "    y_train = Y_train[:, i]\n",
    "    \n",
    "    params = {\n",
    "    'objective': 'binary',\n",
    "    'metric': 'binary_logloss',\n",
    "    'verbosity' : -1,\n",
    "    'deterministic':True,\n",
    "    'force_row_wise':True\n",
    "    }\n",
    "      \n",
    "    models = []\n",
    "\n",
    "    try:\n",
    "        for k in range(10):\n",
    "            models.append(bagging(k))\n",
    "    \n",
    "\n",
    "    except:\n",
    "        print(i)"
   ]
  },
  {
   "cell_type": "code",
   "execution_count": null,
   "metadata": {},
   "outputs": [],
   "source": []
  }
 ],
 "metadata": {
  "interpreter": {
   "hash": "137c9a622c112758795550bdbacf4bdb8d3b969906f774637f3aeed37d13ee03"
  },
  "kernelspec": {
   "display_name": "Python 3",
   "language": "python",
   "name": "python3"
  },
  "language_info": {
   "codemirror_mode": {
    "name": "ipython",
    "version": 3
   },
   "file_extension": ".py",
   "mimetype": "text/x-python",
   "name": "python",
   "nbconvert_exporter": "python",
   "pygments_lexer": "ipython3",
   "version": "3.8.8"
  }
 },
 "nbformat": 4,
 "nbformat_minor": 4
}
