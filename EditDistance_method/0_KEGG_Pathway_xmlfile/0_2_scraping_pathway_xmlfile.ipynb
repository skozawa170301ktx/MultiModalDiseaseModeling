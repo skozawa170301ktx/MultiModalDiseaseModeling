{
 "cells": [
  {
   "cell_type": "markdown",
   "metadata": {},
   "source": [
    "# 0_2_scraping_pathway_xmlfile\n",
    "Get the Pathway map's xmlfile by scraping. For example, we downloaded 'https://www.genome.jp/pathway/hsa04927' by scraping.\n",
    "\n",
    "### input\n",
    "- 0_KEGG_Pathway_xmlfile/output/KEGG_ID_Pathway_link.csv : A file linking KEGG ID and Pathway map link. In this notebook, we only used the column 'hsa_link' in this file.\n",
    "\n",
    "### output\n",
    "- 0_KEGG_Pathway_xmlfile/xmlfile/* : XMLfiles with Pathway map's information."
   ]
  },
  {
   "cell_type": "code",
   "execution_count": 1,
   "metadata": {},
   "outputs": [],
   "source": [
    "import pandas as pd\n",
    "import time"
   ]
  },
  {
   "cell_type": "code",
   "execution_count": 2,
   "metadata": {},
   "outputs": [],
   "source": [
    "df = pd.read_csv('output/KEGG_ID_Pathway_link.csv',header = 0, index_col=0)"
   ]
  },
  {
   "cell_type": "code",
   "execution_count": 3,
   "metadata": {},
   "outputs": [
    {
     "data": {
      "text/html": [
       "<div>\n",
       "<style scoped>\n",
       "    .dataframe tbody tr th:only-of-type {\n",
       "        vertical-align: middle;\n",
       "    }\n",
       "\n",
       "    .dataframe tbody tr th {\n",
       "        vertical-align: top;\n",
       "    }\n",
       "\n",
       "    .dataframe thead th {\n",
       "        text-align: right;\n",
       "    }\n",
       "</style>\n",
       "<table border=\"1\" class=\"dataframe\">\n",
       "  <thead>\n",
       "    <tr style=\"text-align: right;\">\n",
       "      <th></th>\n",
       "      <th>HSA</th>\n",
       "      <th>hsa_link</th>\n",
       "    </tr>\n",
       "  </thead>\n",
       "  <tbody>\n",
       "    <tr>\n",
       "      <th>0</th>\n",
       "      <td>3739</td>\n",
       "      <td>https://www.genome.jp/pathway/hsa04927</td>\n",
       "    </tr>\n",
       "    <tr>\n",
       "      <th>1</th>\n",
       "      <td>3739</td>\n",
       "      <td>https://www.genome.jp/pathway/hsa04934</td>\n",
       "    </tr>\n",
       "    <tr>\n",
       "      <th>2</th>\n",
       "      <td>3748</td>\n",
       "      <td>https://www.genome.jp/pathway/hsa05017</td>\n",
       "    </tr>\n",
       "    <tr>\n",
       "      <th>3</th>\n",
       "      <td>3751</td>\n",
       "      <td>https://www.genome.jp/pathway/hsa04726</td>\n",
       "    </tr>\n",
       "    <tr>\n",
       "      <th>4</th>\n",
       "      <td>3752</td>\n",
       "      <td>https://www.genome.jp/pathway/hsa05017</td>\n",
       "    </tr>\n",
       "    <tr>\n",
       "      <th>...</th>\n",
       "      <td>...</td>\n",
       "      <td>...</td>\n",
       "    </tr>\n",
       "    <tr>\n",
       "      <th>5899</th>\n",
       "      <td>11238</td>\n",
       "      <td>https://www.genome.jp/pathway/hsa00910</td>\n",
       "    </tr>\n",
       "    <tr>\n",
       "      <th>5900</th>\n",
       "      <td>11238</td>\n",
       "      <td>https://www.genome.jp/pathway/hsa01100</td>\n",
       "    </tr>\n",
       "    <tr>\n",
       "      <th>5901</th>\n",
       "      <td>767</td>\n",
       "      <td>https://www.genome.jp/pathway/hsa00910</td>\n",
       "    </tr>\n",
       "    <tr>\n",
       "      <th>5902</th>\n",
       "      <td>767</td>\n",
       "      <td>https://www.genome.jp/pathway/hsa01100</td>\n",
       "    </tr>\n",
       "    <tr>\n",
       "      <th>5903</th>\n",
       "      <td>6330</td>\n",
       "      <td>https://www.genome.jp/pathway/hsa04261</td>\n",
       "    </tr>\n",
       "  </tbody>\n",
       "</table>\n",
       "<p>5904 rows × 2 columns</p>\n",
       "</div>"
      ],
      "text/plain": [
       "        HSA                                hsa_link\n",
       "0      3739  https://www.genome.jp/pathway/hsa04927\n",
       "1      3739  https://www.genome.jp/pathway/hsa04934\n",
       "2      3748  https://www.genome.jp/pathway/hsa05017\n",
       "3      3751  https://www.genome.jp/pathway/hsa04726\n",
       "4      3752  https://www.genome.jp/pathway/hsa05017\n",
       "...     ...                                     ...\n",
       "5899  11238  https://www.genome.jp/pathway/hsa00910\n",
       "5900  11238  https://www.genome.jp/pathway/hsa01100\n",
       "5901    767  https://www.genome.jp/pathway/hsa00910\n",
       "5902    767  https://www.genome.jp/pathway/hsa01100\n",
       "5903   6330  https://www.genome.jp/pathway/hsa04261\n",
       "\n",
       "[5904 rows x 2 columns]"
      ]
     },
     "execution_count": 3,
     "metadata": {},
     "output_type": "execute_result"
    }
   ],
   "source": [
    "df"
   ]
  },
  {
   "cell_type": "code",
   "execution_count": 4,
   "metadata": {},
   "outputs": [
    {
     "data": {
      "text/html": [
       "<div>\n",
       "<style scoped>\n",
       "    .dataframe tbody tr th:only-of-type {\n",
       "        vertical-align: middle;\n",
       "    }\n",
       "\n",
       "    .dataframe tbody tr th {\n",
       "        vertical-align: top;\n",
       "    }\n",
       "\n",
       "    .dataframe thead th {\n",
       "        text-align: right;\n",
       "    }\n",
       "</style>\n",
       "<table border=\"1\" class=\"dataframe\">\n",
       "  <thead>\n",
       "    <tr style=\"text-align: right;\">\n",
       "      <th></th>\n",
       "      <th>HSA</th>\n",
       "      <th>hsa_link</th>\n",
       "    </tr>\n",
       "  </thead>\n",
       "  <tbody>\n",
       "    <tr>\n",
       "      <th>0</th>\n",
       "      <td>3739</td>\n",
       "      <td>https://www.genome.jp/pathway/hsa04927</td>\n",
       "    </tr>\n",
       "    <tr>\n",
       "      <th>1</th>\n",
       "      <td>3739</td>\n",
       "      <td>https://www.genome.jp/pathway/hsa04934</td>\n",
       "    </tr>\n",
       "    <tr>\n",
       "      <th>2</th>\n",
       "      <td>3748</td>\n",
       "      <td>https://www.genome.jp/pathway/hsa05017</td>\n",
       "    </tr>\n",
       "    <tr>\n",
       "      <th>3</th>\n",
       "      <td>3751</td>\n",
       "      <td>https://www.genome.jp/pathway/hsa04726</td>\n",
       "    </tr>\n",
       "    <tr>\n",
       "      <th>5</th>\n",
       "      <td>240</td>\n",
       "      <td>https://www.genome.jp/pathway/hsa00590</td>\n",
       "    </tr>\n",
       "    <tr>\n",
       "      <th>...</th>\n",
       "      <td>...</td>\n",
       "      <td>...</td>\n",
       "    </tr>\n",
       "    <tr>\n",
       "      <th>5012</th>\n",
       "      <td>3074</td>\n",
       "      <td>https://www.genome.jp/pathway/hsa00531</td>\n",
       "    </tr>\n",
       "    <tr>\n",
       "      <th>5013</th>\n",
       "      <td>3074</td>\n",
       "      <td>https://www.genome.jp/pathway/hsa00603</td>\n",
       "    </tr>\n",
       "    <tr>\n",
       "      <th>5014</th>\n",
       "      <td>3074</td>\n",
       "      <td>https://www.genome.jp/pathway/hsa00604</td>\n",
       "    </tr>\n",
       "    <tr>\n",
       "      <th>5252</th>\n",
       "      <td>57016</td>\n",
       "      <td>https://www.genome.jp/pathway/hsa00051</td>\n",
       "    </tr>\n",
       "    <tr>\n",
       "      <th>5784</th>\n",
       "      <td>4193</td>\n",
       "      <td>https://www.genome.jp/pathway/hsa04120</td>\n",
       "    </tr>\n",
       "  </tbody>\n",
       "</table>\n",
       "<p>317 rows × 2 columns</p>\n",
       "</div>"
      ],
      "text/plain": [
       "        HSA                                hsa_link\n",
       "0      3739  https://www.genome.jp/pathway/hsa04927\n",
       "1      3739  https://www.genome.jp/pathway/hsa04934\n",
       "2      3748  https://www.genome.jp/pathway/hsa05017\n",
       "3      3751  https://www.genome.jp/pathway/hsa04726\n",
       "5       240  https://www.genome.jp/pathway/hsa00590\n",
       "...     ...                                     ...\n",
       "5012   3074  https://www.genome.jp/pathway/hsa00531\n",
       "5013   3074  https://www.genome.jp/pathway/hsa00603\n",
       "5014   3074  https://www.genome.jp/pathway/hsa00604\n",
       "5252  57016  https://www.genome.jp/pathway/hsa00051\n",
       "5784   4193  https://www.genome.jp/pathway/hsa04120\n",
       "\n",
       "[317 rows x 2 columns]"
      ]
     },
     "execution_count": 4,
     "metadata": {},
     "output_type": "execute_result"
    }
   ],
   "source": [
    "df_link = df.drop_duplicates(subset='hsa_link')\n",
    "df_link"
   ]
  },
  {
   "cell_type": "code",
   "execution_count": 5,
   "metadata": {},
   "outputs": [],
   "source": [
    "import time\n",
    "from selenium import webdriver\n",
    "import pandas as pd"
   ]
  },
  {
   "cell_type": "code",
   "execution_count": 6,
   "metadata": {},
   "outputs": [
    {
     "name": "stderr",
     "output_type": "stream",
     "text": [
      "\n",
      "\n",
      "====== WebDriver manager ======\n",
      "Current google-chrome version is 97.0.4692\n",
      "Get LATEST chromedriver version for 97.0.4692 google-chrome\n",
      "Driver [C:\\Users\\nakamura\\.wdm\\drivers\\chromedriver\\win32\\97.0.4692.71\\chromedriver.exe] found in cache\n",
      "<ipython-input-6-7d1d8acef74d>:5: DeprecationWarning: executable_path has been deprecated, please pass in a Service object\n",
      "  driver = webdriver.Chrome(ChromeDriverManager().install())\n"
     ]
    }
   ],
   "source": [
    "from webdriver_manager.chrome import ChromeDriverManager\n",
    "\n",
    "driver = webdriver.Chrome(ChromeDriverManager().install())"
   ]
  },
  {
   "cell_type": "code",
   "execution_count": 7,
   "metadata": {},
   "outputs": [],
   "source": [
    "import time\n",
    "from selenium.common.exceptions import TimeoutException"
   ]
  },
  {
   "cell_type": "code",
   "execution_count": 9,
   "metadata": {},
   "outputs": [
    {
     "name": "stderr",
     "output_type": "stream",
     "text": [
      "<ipython-input-9-dde59bb5a416>:13: DeprecationWarning: find_element_by_* commands are deprecated. Please use find_element() instead\n",
      "  driver.find_element_by_xpath('//*[@id=\"navKgml\"]').click()\n"
     ]
    },
    {
     "name": "stdout",
     "output_type": "stream",
     "text": [
      "https://www.genome.jp/pathway/hsa01100\n",
      "https://www.genome.jp/pathway/hsa01200\n",
      "https://www.genome.jp/pathway/hsa01230\n",
      "https://www.genome.jp/pathway/hsa01240\n",
      "https://www.genome.jp/pathway/hsa01210\n",
      "https://www.genome.jp/pathway/hsa01212\n",
      "https://www.genome.jp/pathway/hsa01250\n"
     ]
    }
   ],
   "source": [
    "for i in df_link['hsa_link']:\n",
    "    time.sleep(1)\n",
    "    for q in range(5): # Up to 5 times execution\n",
    "        try:\n",
    "            driver.get(i)\n",
    "        except TimeoutException as e:\n",
    "            print('{}'.format(p))\n",
    "        else:\n",
    "            break\n",
    "    else:\n",
    "        print('Failure')\n",
    "    try:\n",
    "        driver.find_element_by_xpath('//*[@id=\"navKgml\"]').click()\n",
    "    except:\n",
    "        print(i)"
   ]
  },
  {
   "cell_type": "code",
   "execution_count": 10,
   "metadata": {},
   "outputs": [],
   "source": [
    "driver.close()"
   ]
  },
  {
   "cell_type": "code",
   "execution_count": null,
   "metadata": {},
   "outputs": [],
   "source": []
  }
 ],
 "metadata": {
  "kernelspec": {
   "display_name": "Python 3",
   "language": "python",
   "name": "python3"
  },
  "language_info": {
   "codemirror_mode": {
    "name": "ipython",
    "version": 3
   },
   "file_extension": ".py",
   "mimetype": "text/x-python",
   "name": "python",
   "nbconvert_exporter": "python",
   "pygments_lexer": "ipython3",
   "version": "3.8.8"
  }
 },
 "nbformat": 4,
 "nbformat_minor": 4
}
